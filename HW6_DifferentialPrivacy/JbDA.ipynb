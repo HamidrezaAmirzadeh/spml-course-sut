{
  "cells": [
    {
      "cell_type": "markdown",
      "metadata": {
        "id": "UgIHjec_9wuO"
      },
      "source": [
        "**SPML**\n",
        "\n",
        "**HW6**\n",
        "\n",
        "**Name: Hamidreza Amirzadeh**\n",
        "\n",
        "**Student No.: 401206999**"
      ]
    },
    {
      "cell_type": "markdown",
      "metadata": {
        "id": "d2QKhc9H94VM"
      },
      "source": [
        "1. Import libraries"
      ]
    },
    {
      "cell_type": "code",
      "execution_count": 1,
      "metadata": {
        "id": "BJAHH85K90lQ"
      },
      "outputs": [],
      "source": [
        "import os\n",
        "import sys\n",
        "import numpy as np\n",
        "import matplotlib.pyplot as plt\n",
        "%matplotlib inline\n",
        "import time\n",
        "\n",
        "import torch\n",
        "import torch.nn as nn\n",
        "import torch.optim as optim\n",
        "\n",
        "import torchvision.utils\n",
        "from torchvision import models\n",
        "import torchvision.datasets as dsets\n",
        "import torchvision.transforms as transforms"
      ]
    },
    {
      "cell_type": "markdown",
      "metadata": {
        "id": "tLh3MCsi-LkW"
      },
      "source": [
        "2. Define model"
      ]
    },
    {
      "cell_type": "code",
      "execution_count": 2,
      "metadata": {
        "id": "rB5ycNUO-RQG"
      },
      "outputs": [],
      "source": [
        "class CNN(nn.Module):\n",
        "    def __init__(self):\n",
        "        super(CNN, self).__init__()\n",
        "\n",
        "        self.layer = nn.Sequential(\n",
        "            nn.Conv2d(1,16,5), # 16*24*24\n",
        "            nn.ReLU(),\n",
        "            nn.Conv2d(16,32,5), # 32*20*20\n",
        "            nn.ReLU(),\n",
        "            nn.MaxPool2d(2,2), # 32*10*10\n",
        "            nn.Conv2d(32,64,5), # 64*6*6\n",
        "            nn.ReLU(),\n",
        "            nn.MaxPool2d(2,2) #64*3*3\n",
        "        )\n",
        "\n",
        "        self.fc_layer = nn.Sequential(\n",
        "            nn.Linear(64*3*3,100),\n",
        "            nn.ReLU(),\n",
        "            nn.Linear(100,10)\n",
        "        )\n",
        "\n",
        "    def forward(self,x):\n",
        "        out = self.layer(x)\n",
        "        out = out.view(-1,64*3*3)\n",
        "        out = self.fc_layer(out)\n",
        "\n",
        "        return out\n",
        ""
      ]
    },
    {
      "cell_type": "markdown",
      "metadata": {
        "id": "xlgMDm1R_bzk"
      },
      "source": [
        "3. Load original dataset"
      ]
    },
    {
      "cell_type": "code",
      "execution_count": null,
      "metadata": {
        "collapsed": true,
        "id": "563DKviw_UYO"
      },
      "outputs": [],
      "source": [
        "# todo: Define Batch size & Load MNIST dataset #\n",
        "device = torch.device(torch.cuda.current_device()) if torch.cuda.is_available() else torch.device('cpu')\n",
        "print('device:', device)\n",
        "np.random.seed(0)\n",
        "\n",
        "batch_size = 32\n",
        "mnist_train = dsets.MNIST(root='./Mnistdata', train=True, transform=transforms.ToTensor(), download=True)\n",
        "mnist_test = dsets.MNIST(root='./Mnistdata', train=False, transform=transforms.ToTensor(), download=True)"
      ]
    },
    {
      "cell_type": "markdown",
      "metadata": {
        "id": "A5ElW2ZxYErl"
      },
      "source": [
        "## Training the substitute model"
      ]
    },
    {
      "cell_type": "code",
      "execution_count": 4,
      "metadata": {
        "id": "nX0w-T0waraC",
        "colab": {
          "base_uri": "https://localhost:8080/"
        },
        "outputId": "da7188cd-f8a7-45f9-cd65-b7521d011b53"
      },
      "outputs": [
        {
          "output_type": "execute_result",
          "data": {
            "text/plain": [
              "CNN(\n",
              "  (layer): Sequential(\n",
              "    (0): Conv2d(1, 16, kernel_size=(5, 5), stride=(1, 1))\n",
              "    (1): ReLU()\n",
              "    (2): Conv2d(16, 32, kernel_size=(5, 5), stride=(1, 1))\n",
              "    (3): ReLU()\n",
              "    (4): MaxPool2d(kernel_size=2, stride=2, padding=0, dilation=1, ceil_mode=False)\n",
              "    (5): Conv2d(32, 64, kernel_size=(5, 5), stride=(1, 1))\n",
              "    (6): ReLU()\n",
              "    (7): MaxPool2d(kernel_size=2, stride=2, padding=0, dilation=1, ceil_mode=False)\n",
              "  )\n",
              "  (fc_layer): Sequential(\n",
              "    (0): Linear(in_features=576, out_features=100, bias=True)\n",
              "    (1): ReLU()\n",
              "    (2): Linear(in_features=100, out_features=10, bias=True)\n",
              "  )\n",
              ")"
            ]
          },
          "metadata": {},
          "execution_count": 4
        }
      ],
      "source": [
        "oracle = CNN().cuda()\n",
        "\n",
        "# todo: load oracle's checkpoint\n",
        "oracle.load_state_dict(torch.load(\"checkpoint.pth\", map_location=device))\n",
        "oracle = oracle.to(device)\n",
        "oracle.eval()"
      ]
    },
    {
      "cell_type": "markdown",
      "metadata": {
        "id": "AcFGZQ1EYErl"
      },
      "source": [
        "Defining the model"
      ]
    },
    {
      "cell_type": "code",
      "execution_count": 5,
      "metadata": {
        "collapsed": true,
        "id": "D0oRvs5wYErl"
      },
      "outputs": [],
      "source": [
        "class Net(nn.Module):\n",
        "    def __init__(self):\n",
        "        super().__init__()\n",
        "        ### TO DO ###\n",
        "        self.layer = nn.Sequential(\n",
        "            nn.Conv2d(1,32,5),\n",
        "            nn.ReLU(),\n",
        "            nn.MaxPool2d(2,2),\n",
        "            nn.Conv2d(32,64,3),\n",
        "            nn.ReLU(),\n",
        "            nn.MaxPool2d(2,2),\n",
        "        )\n",
        "        self.fc_layer = nn.Sequential(\n",
        "            nn.Linear(64*5*5,100),\n",
        "            nn.ReLU(),\n",
        "            nn.Linear(100,10)\n",
        "        )\n",
        "        #############\n",
        "\n",
        "    def forward(self, x):\n",
        "        ### TO DO ###\n",
        "        x = self.layer(x)\n",
        "        x = x.view(-1,64*5*5)\n",
        "        x = self.fc_layer(x)\n",
        "        #############\n",
        "        return x"
      ]
    },
    {
      "cell_type": "markdown",
      "metadata": {
        "id": "WJ2urUdbYErl"
      },
      "source": [
        "Implement Jacobian-based Data Augmentation Algorithm"
      ]
    },
    {
      "cell_type": "code",
      "execution_count": 10,
      "metadata": {
        "collapsed": true,
        "id": "lRNWEXhuYErl"
      },
      "outputs": [],
      "source": [
        "def train_JDA(net, X, oracle, epochs=45, lmbd=0.1, max_rho=6):\n",
        "    ### TO DO ###\n",
        "    ### Note that you can only use the prediction labels in the training\n",
        "    ### You can get the prediction labels using net(X).max(1).indices\n",
        "    def train_from_scratch(net, X, y, epochs):\n",
        "        net.to(device)\n",
        "        net.train()\n",
        "        for module in net.modules():\n",
        "            if hasattr(module, 'reset_parameters'):\n",
        "                module.reset_parameters()\n",
        "\n",
        "        criterion = nn.CrossEntropyLoss()\n",
        "        optimizer = optim.SGD(net.parameters(), lr=0.01)\n",
        "        batch_size = 16\n",
        "        batch_count = len(X)//batch_size if len(X) % batch_size == 0 else (len(X)//batch_size + 1)\n",
        "\n",
        "        for epoch in range(epochs):\n",
        "            for i in range(batch_count):\n",
        "                j = (i + 1) * batch_size if ((i + 1) * batch_size) <= len(X) else len(X)\n",
        "                input_data = torch.stack(X[i*batch_size:j]).to(device)\n",
        "                label_data = y[i*batch_size:j].to(device)\n",
        "                optimizer.zero_grad()\n",
        "                outputs = net(input_data)\n",
        "                loss = criterion(outputs, label_data)\n",
        "                loss.backward()\n",
        "                optimizer.step()\n",
        "\n",
        "        return net\n",
        "\n",
        "    for a in range(max_rho):\n",
        "        print(f\"rho: {a + 1} / {max_rho}, dataset size = {len(X)}\")\n",
        "        # train net from scratch on new data and oracle labels\n",
        "        oracle_labels = oracle(torch.stack(X).to(device)).max(1).indices\n",
        "        net = train_from_scratch(net, X, oracle_labels, epochs)\n",
        "        net.to(device)\n",
        "        net.eval()\n",
        "\n",
        "        # augment dataset\n",
        "        oracle_labels = oracle_labels.to(device)\n",
        "        current_dataset_size = len(X)\n",
        "        for i in range(current_dataset_size):\n",
        "            current_data = X[i].unsqueeze(0).to(device)\n",
        "            current_data_copy = current_data.clone().requires_grad_(True)\n",
        "            net_output = net(current_data_copy)\n",
        "            net.zero_grad()\n",
        "            gradient = torch.autograd.grad(net_output[0][oracle_labels[i]], current_data_copy)[0]\n",
        "            new_data = current_data.squeeze(0) +  lmbd * torch.sign(gradient).squeeze(0)\n",
        "            X.append(new_data.detach().cpu())\n",
        "\n",
        "    return net\n",
        "    #############\n",
        "\n",
        "def compute_accuracy(net, X, y):\n",
        "    ### TO DO ###\n",
        "    X = X.to(device)\n",
        "    output = net(X)\n",
        "    label = output.max(1).indices\n",
        "    original_correct = (label == y.to(device)).sum().item()\n",
        "    oracle_labels = oracle(X).max(1).indices\n",
        "    oracle_correct = (label == oracle_labels.to(device)).sum().item()\n",
        "    total = X.shape[0]\n",
        "    print(f\"Original accuracy: {round(original_correct/total, 3)}\\nOracle accuracy: {round(oracle_correct/total, 3)}\")\n",
        "    #############"
      ]
    },
    {
      "cell_type": "code",
      "execution_count": 8,
      "metadata": {
        "collapsed": true,
        "id": "JfodgFU9YErm"
      },
      "outputs": [],
      "source": [
        "### TO DO ###\n",
        "### Select 100 images with their labels from the dataset, randomly\n",
        "import random\n",
        "\n",
        "JDA_train_X = []\n",
        "JDA_train_y = []\n",
        "\n",
        "random_indices = random.sample(range(len(mnist_train)), 100)\n",
        "for i in random_indices:\n",
        "    image, label = mnist_train[i]\n",
        "    JDA_train_X.append(image)\n",
        "    JDA_train_y.append(label)\n",
        "#############\n",
        "\n",
        "net = Net()"
      ]
    },
    {
      "cell_type": "code",
      "execution_count": 11,
      "metadata": {
        "collapsed": true,
        "id": "7HQNXfYJYErm",
        "colab": {
          "base_uri": "https://localhost:8080/"
        },
        "outputId": "41213df5-611d-4959-815e-6f4e23423a3c"
      },
      "outputs": [
        {
          "output_type": "stream",
          "name": "stdout",
          "text": [
            "rho: 1 / 6, dataset size = 400\n",
            "rho: 2 / 6, dataset size = 800\n",
            "rho: 3 / 6, dataset size = 1600\n",
            "rho: 4 / 6, dataset size = 3200\n",
            "rho: 5 / 6, dataset size = 6400\n",
            "rho: 6 / 6, dataset size = 12800\n"
          ]
        },
        {
          "output_type": "execute_result",
          "data": {
            "text/plain": [
              "Net(\n",
              "  (layer): Sequential(\n",
              "    (0): Conv2d(1, 32, kernel_size=(5, 5), stride=(1, 1))\n",
              "    (1): ReLU()\n",
              "    (2): MaxPool2d(kernel_size=2, stride=2, padding=0, dilation=1, ceil_mode=False)\n",
              "    (3): Conv2d(32, 64, kernel_size=(3, 3), stride=(1, 1))\n",
              "    (4): ReLU()\n",
              "    (5): MaxPool2d(kernel_size=2, stride=2, padding=0, dilation=1, ceil_mode=False)\n",
              "  )\n",
              "  (fc_layer): Sequential(\n",
              "    (0): Linear(in_features=1600, out_features=100, bias=True)\n",
              "    (1): ReLU()\n",
              "    (2): Linear(in_features=100, out_features=10, bias=True)\n",
              "  )\n",
              ")"
            ]
          },
          "metadata": {},
          "execution_count": 11
        }
      ],
      "source": [
        "train_JDA(net, JDA_train_X, oracle)"
      ]
    },
    {
      "cell_type": "code",
      "execution_count": 12,
      "metadata": {
        "collapsed": true,
        "id": "lQs24iepYErm"
      },
      "outputs": [],
      "source": [
        "### TO DO ###\n",
        "### load the whole test and train dataset in one full batch\n",
        "train_dataloader = torch.utils.data.DataLoader(mnist_train, len(mnist_train), shuffle=True)\n",
        "train_X, train_y = next(iter(train_dataloader))\n",
        "\n",
        "test_dataloader = torch.utils.data.DataLoader(mnist_test, len(mnist_test), shuffle=True)\n",
        "test_X, test_y = next(iter(test_dataloader))\n",
        "#############"
      ]
    },
    {
      "cell_type": "code",
      "execution_count": 15,
      "metadata": {
        "collapsed": true,
        "id": "BgPy9iW2YErm",
        "colab": {
          "base_uri": "https://localhost:8080/"
        },
        "outputId": "43cdf78f-f214-4f45-8c40-43104eaa497d"
      },
      "outputs": [
        {
          "output_type": "stream",
          "name": "stdout",
          "text": [
            "Test Accuracy of substantial model:\n",
            "Original accuracy: 0.436\n",
            "Oracle accuracy: 0.723\n",
            "----------------------------------------\n",
            "Test Accuracy of oracle model:\n",
            "Original accuracy: 0.413\n",
            "Oracle accuracy: 1.0\n"
          ]
        }
      ],
      "source": [
        "### TO DO ###\n",
        "### compute accuracy of net on train and test\n",
        "torch.cuda.empty_cache()\n",
        "\n",
        "print(\"Test Accuracy of substantial model:\")\n",
        "compute_accuracy(net, test_X, test_y)\n",
        "print('-'*40)\n",
        "print(\"Test Accuracy of oracle model:\")\n",
        "compute_accuracy(oracle, test_X, test_y)\n",
        "# #############"
      ]
    }
  ],
  "metadata": {
    "anaconda-cloud": {},
    "colab": {
      "provenance": [],
      "gpuType": "T4"
    },
    "kernelspec": {
      "display_name": "Python 3",
      "name": "python3"
    },
    "language_info": {
      "codemirror_mode": {
        "name": "ipython",
        "version": 3
      },
      "file_extension": ".py",
      "mimetype": "text/x-python",
      "name": "python",
      "nbconvert_exporter": "python",
      "pygments_lexer": "ipython3",
      "version": "3.8.5"
    },
    "accelerator": "GPU"
  },
  "nbformat": 4,
  "nbformat_minor": 0
}