{
  "cells": [
    {
      "cell_type": "markdown",
      "metadata": {
        "id": "CgdNuxMaf_p2"
      },
      "source": [
        "# SPML HW3 - Defensive Distillation (30)\n",
        "\n",
        "### Deadline: 1402/2/30\n",
        "\n",
        "#### Name: Hamidreza Amirzadeh\n",
        "#### Student No.: 401206999"
      ]
    },
    {
      "cell_type": "markdown",
      "metadata": {
        "id": "xpKO-cm_Z54s"
      },
      "source": [
        "In this notebook, you are going to attack a defensively distilled model\n",
        "\n",
        "Please write your code in specified sections and do not change anything else. If you have a question regarding this homework, please ask it on the course page.\n",
        "\n",
        "Also, it is recommended to use google colab to do this homework. You can connect to your drive using the code below:"
      ]
    },
    {
      "cell_type": "markdown",
      "metadata": {
        "id": "NJb0CvxpL1Q2"
      },
      "source": [
        "## Initializations"
      ]
    },
    {
      "cell_type": "code",
      "execution_count": 1,
      "metadata": {
        "id": "jNyN53BvAoD1"
      },
      "outputs": [],
      "source": [
        "import torch\n",
        "import torchvision\n",
        "import torch.nn as nn\n",
        "import torch.nn.functional as F\n",
        "import torchvision.transforms as transforms\n",
        "from torchvision.models import resnet18\n",
        "import torch.optim as optim"
      ]
    },
    {
      "cell_type": "code",
      "source": [
        "from google.colab import drive\n",
        "drive.mount('/content/drive')"
      ],
      "metadata": {
        "colab": {
          "base_uri": "https://localhost:8080/"
        },
        "id": "-lwFBZIp5jGX",
        "outputId": "da8f5c19-7f03-48bf-8f75-f443886208bb"
      },
      "execution_count": 2,
      "outputs": [
        {
          "output_type": "stream",
          "name": "stdout",
          "text": [
            "Mounted at /content/drive\n"
          ]
        }
      ]
    },
    {
      "cell_type": "markdown",
      "metadata": {
        "id": "KncQ7q9NL32n"
      },
      "source": [
        "## Defining Teacher and Student Classes"
      ]
    },
    {
      "cell_type": "code",
      "execution_count": 3,
      "metadata": {
        "id": "tFjhNHr9BELF"
      },
      "outputs": [],
      "source": [
        "class Teacher(nn.Module):\n",
        "  def __init__(self, num_cls, T=1):\n",
        "    super().__init__()\n",
        "    self.conv = nn.Sequential(\n",
        "        *list(resnet18(pretrained=False).children())[:-2])\n",
        "    \n",
        "    self.fc = nn.Linear(512, num_cls)\n",
        "    self.temp = T\n",
        "  \n",
        "  def forward(self, x, T=None):\n",
        "    if T is None:\n",
        "      T = self.temp\n",
        "    x = self.conv(x)\n",
        "    x = torch.flatten(x, start_dim=1)\n",
        "    logits = self.fc(x)\n",
        "    output = torch.softmax(logits / T, dim=1)\n",
        "\n",
        "    return logits, output\n",
        "\n",
        "class Student(nn.Module):\n",
        "  def __init__(self, num_cls, T=1):\n",
        "    super().__init__()\n",
        "    self.conv1 = nn.Conv2d(3, 6, 5)\n",
        "    self.pool = nn.MaxPool2d(2, 2)\n",
        "    self.conv2 = nn.Conv2d(6, 16, 5)\n",
        "    self.fc1 = nn.Linear(16 * 5 * 5, 120)\n",
        "    self.fc2 = nn.Linear(120, 84)\n",
        "    self.fc3 = nn.Linear(84, num_cls)\n",
        "    self.temp = T\n",
        "\n",
        "  def forward(self, x, T=None):\n",
        "    if T is None:\n",
        "      T = self.temp\n",
        "    x = self.pool(F.relu(self.conv1(x)))\n",
        "    x = self.pool(F.relu(self.conv2(x)))\n",
        "    x = torch.flatten(x, 1)\n",
        "    x = F.relu(self.fc1(x))\n",
        "    x = F.relu(self.fc2(x))\n",
        "    logits = self.fc3(x)\n",
        "\n",
        "    output = torch.softmax(logits / T, dim=1)\n",
        "    return logits, output"
      ]
    },
    {
      "cell_type": "code",
      "execution_count": 4,
      "metadata": {
        "colab": {
          "base_uri": "https://localhost:8080/"
        },
        "id": "vADZfUlJdbWZ",
        "outputId": "61f6ee97-49bc-471b-ff9d-7b396f7d579b"
      },
      "outputs": [
        {
          "output_type": "stream",
          "name": "stdout",
          "text": [
            "Downloading https://www.cs.toronto.edu/~kriz/cifar-10-python.tar.gz to ./data/cifar-10-python.tar.gz\n"
          ]
        },
        {
          "output_type": "stream",
          "name": "stderr",
          "text": [
            "100%|██████████| 170498071/170498071 [00:01<00:00, 86394534.94it/s] \n"
          ]
        },
        {
          "output_type": "stream",
          "name": "stdout",
          "text": [
            "Extracting ./data/cifar-10-python.tar.gz to ./data\n",
            "Files already downloaded and verified\n"
          ]
        }
      ],
      "source": [
        "transform = transforms.Compose(\n",
        "    [transforms.ToTensor(),\n",
        "     transforms.Normalize((0.5, 0.5, 0.5), (0.5, 0.5, 0.5))])\n",
        "\n",
        "batch_size = 128\n",
        "\n",
        "trainset = torchvision.datasets.CIFAR10(root='./data', train=True,\n",
        "                                        download=True, transform=transform)\n",
        "\n",
        "testset = torchvision.datasets.CIFAR10(root='./data', train=False,\n",
        "                                       download=True, transform=transform)\n",
        "\n",
        "###################### Problem 1 (3 points) ####################################\n",
        "# todo: Define your data loaders for training, testing, and validation         #\n",
        "################################################################################\n",
        "# your code goes here\n",
        "trainloader = torch.utils.data.DataLoader(trainset, batch_size=64, shuffle=True)\n",
        "testloader = torch.utils.data.DataLoader(testset, batch_size=64, shuffle=False)\n",
        "################################ End ###########################################\n",
        "\n",
        "classes = ('plane', 'car', 'bird', 'cat',\n",
        "           'deer', 'dog', 'frog', 'horse', 'ship', 'truck')\n",
        "\n",
        "device = torch.device('cuda:0' if torch.cuda.is_available() else 'cpu')"
      ]
    },
    {
      "cell_type": "markdown",
      "metadata": {
        "id": "LvTvfZybMBSR"
      },
      "source": [
        "## Training"
      ]
    },
    {
      "cell_type": "markdown",
      "metadata": {
        "id": "BCmosNdHMExH"
      },
      "source": [
        "### Teacher Network Training"
      ]
    },
    {
      "cell_type": "code",
      "execution_count": 5,
      "metadata": {
        "id": "LgTK7EhrIs_r"
      },
      "outputs": [],
      "source": [
        "def standard_train(model, loader, num_epoch, optimizer, criterion, T=None, \n",
        "                   device=device):\n",
        "  ###################### Problem 2 (4 points) ##################################\n",
        "  # todo: Iterate over loader in each epoch                                    #\n",
        "  # todo: Compute the model's output for each batch at the given temperature T #\n",
        "  # todo: Compute the loss function and take a step by the optimizer           #\n",
        "  # todo: Monitor the training procedure                                       #\n",
        "  ##############################################################################\n",
        "\n",
        "  # your code goes here\n",
        "    for epoch in range(num_epoch):\n",
        "      running_loss = 0.0\n",
        "      for i, data in enumerate(loader, 0):\n",
        "          inputs, labels = data[0].to(device), data[1].to(device)\n",
        "          optimizer.zero_grad()\n",
        "          outputs = model(inputs)\n",
        "          loss = criterion(outputs[1], labels)\n",
        "          loss.backward()\n",
        "          optimizer.step()\n",
        "          running_loss += loss.item()\n",
        "\n",
        "      print('Epoch %d loss: %.3f' % (epoch + 1, running_loss / len(trainloader)))  \n",
        "  ##############################################################################"
      ]
    },
    {
      "cell_type": "code",
      "execution_count": 6,
      "metadata": {
        "colab": {
          "base_uri": "https://localhost:8080/"
        },
        "id": "gkIqSmUjLOIJ",
        "outputId": "edd7140d-893f-4047-8bd9-3f945769b3eb"
      },
      "outputs": [
        {
          "output_type": "stream",
          "name": "stderr",
          "text": [
            "/usr/local/lib/python3.10/dist-packages/torchvision/models/_utils.py:208: UserWarning: The parameter 'pretrained' is deprecated since 0.13 and may be removed in the future, please use 'weights' instead.\n",
            "  warnings.warn(\n",
            "/usr/local/lib/python3.10/dist-packages/torchvision/models/_utils.py:223: UserWarning: Arguments other than a weight enum or `None` for 'weights' are deprecated since 0.13 and may be removed in the future. The current behavior is equivalent to passing `weights=None`.\n",
            "  warnings.warn(msg)\n"
          ]
        }
      ],
      "source": [
        "T = 100\n",
        "teacher = Teacher(len(classes), T=T).to(device)\n",
        "teacher_optim = optim.Adam(teacher.parameters())\n",
        "teacher_criterion = nn.CrossEntropyLoss()"
      ]
    },
    {
      "cell_type": "code",
      "source": [
        "# load teacher model\n",
        "model_name = \"teacherModel.pth\"\n",
        "teacher_model_PATH = \"/content/drive/MyDrive/\" + model_name\n",
        "state_dict = torch.load(teacher_model_PATH)\n",
        "teacher.load_state_dict(state_dict)\n",
        "teacher = teacher.to(device)"
      ],
      "metadata": {
        "id": "u81aekC0XFZI"
      },
      "execution_count": 10,
      "outputs": []
    },
    {
      "cell_type": "code",
      "execution_count": null,
      "metadata": {
        "colab": {
          "base_uri": "https://localhost:8080/"
        },
        "id": "XbSXhhVloGBJ",
        "outputId": "7517e16b-bda0-43f1-8cbb-97860a7ef831"
      },
      "outputs": [
        {
          "output_type": "stream",
          "name": "stdout",
          "text": [
            "Epoch 1 loss: 2.103\n",
            "Epoch 2 loss: 1.950\n",
            "Epoch 3 loss: 1.887\n",
            "Epoch 4 loss: 1.842\n",
            "Epoch 5 loss: 1.811\n",
            "Epoch 6 loss: 1.789\n",
            "Epoch 7 loss: 1.775\n",
            "Epoch 8 loss: 1.759\n",
            "Epoch 9 loss: 1.743\n",
            "Epoch 10 loss: 1.733\n",
            "Epoch 11 loss: 1.723\n",
            "Epoch 12 loss: 1.714\n",
            "Epoch 13 loss: 1.704\n",
            "Epoch 14 loss: 1.697\n",
            "Epoch 15 loss: 1.691\n"
          ]
        }
      ],
      "source": [
        "standard_train(model=teacher, \n",
        "            loader=trainloader, \n",
        "            num_epoch=15, \n",
        "            optimizer=teacher_optim, \n",
        "            criterion=teacher_criterion, \n",
        "            T=T, \n",
        "            device=device)"
      ]
    },
    {
      "cell_type": "code",
      "source": [
        "# save teacher model\n",
        "teacher.eval()\n",
        "model_name = \"teacherModel.pth\"\n",
        "teacher_model_PATH = \"/content/drive/MyDrive/\" + model_name\n",
        "torch.save(teacher.state_dict(), teacher_model_PATH)"
      ],
      "metadata": {
        "id": "VR2Ldni6N608"
      },
      "execution_count": 9,
      "outputs": []
    },
    {
      "cell_type": "markdown",
      "metadata": {
        "id": "EA_uJ6kYMKiY"
      },
      "source": [
        "### Student Network Training"
      ]
    },
    {
      "cell_type": "code",
      "execution_count": 11,
      "metadata": {
        "id": "NMU4qFqwJWXO"
      },
      "outputs": [],
      "source": [
        "def distillation(teacher, student, loader, num_epoch, optimizer, criterion, \n",
        "                 T=None, device=device):\n",
        "  ###################### Problem 3 (6 points) ##################################\n",
        "  # todo: Iterate over loader in each epoch                                    #\n",
        "  # todo: Compute MSE loss between student's logit and teacher's logit         #\n",
        "  # todo: Take a step by the optimizer                                         #\n",
        "  # todo: Monitor the training procedure                                       #\n",
        "  ##############################################################################\n",
        "  # your code goes here    \n",
        "  for epoch in range(num_epoch):\n",
        "    running_loss = 0.0\n",
        "    for i, data in enumerate(loader, 0):\n",
        "        inputs, labels = data[0].to(device), data[1].to(device)\n",
        "        optimizer.zero_grad()\n",
        "        outputs = student(inputs)\n",
        "        teacher.eval()\n",
        "        with torch.no_grad():\n",
        "          outputs_teacher = teacher(inputs)\n",
        "        loss = criterion(outputs[0], outputs_teacher[0])\n",
        "        loss.backward()\n",
        "        optimizer.step()\n",
        "        running_loss += loss.item()\n",
        "\n",
        "    print('Epoch %d loss: %.3f' % (epoch, running_loss / len(trainloader))) \n",
        "  ################################ End #########################################"
      ]
    },
    {
      "cell_type": "code",
      "execution_count": 12,
      "metadata": {
        "id": "m6EXzkMiKIZL"
      },
      "outputs": [],
      "source": [
        "T = 100\n",
        "student = Student(len(classes), T=T).to(device)\n",
        "student_optim = optim.Adam(student.parameters())\n",
        "std_criterion = nn.MSELoss()"
      ]
    },
    {
      "cell_type": "code",
      "source": [
        "# load student model\n",
        "model_name = \"studentModel.pth\"\n",
        "student_model_PATH = \"/content/drive/MyDrive/\" + model_name\n",
        "state_dict = torch.load(student_model_PATH)\n",
        "student.load_state_dict(state_dict)\n",
        "student = student.to(device)"
      ],
      "metadata": {
        "id": "ye8Z8fX0XeEY"
      },
      "execution_count": 14,
      "outputs": []
    },
    {
      "cell_type": "code",
      "execution_count": null,
      "metadata": {
        "colab": {
          "base_uri": "https://localhost:8080/"
        },
        "id": "Arnzq1nuJ9ro",
        "outputId": "4cd3ec26-a4ed-41e3-9a6d-3f37212194b8"
      },
      "outputs": [
        {
          "output_type": "stream",
          "name": "stdout",
          "text": [
            "Epoch 0 loss: 197814.864\n",
            "Epoch 1 loss: 181382.306\n",
            "Epoch 2 loss: 164789.905\n",
            "Epoch 3 loss: 155433.515\n",
            "Epoch 4 loss: 147304.658\n",
            "Epoch 5 loss: 139767.458\n",
            "Epoch 6 loss: 133575.293\n",
            "Epoch 7 loss: 128247.517\n",
            "Epoch 8 loss: 123480.855\n",
            "Epoch 9 loss: 118911.982\n",
            "Epoch 10 loss: 115263.871\n",
            "Epoch 11 loss: 111419.158\n",
            "Epoch 12 loss: 108117.410\n",
            "Epoch 13 loss: 105084.380\n",
            "Epoch 14 loss: 102011.637\n",
            "Epoch 15 loss: 99757.691\n",
            "Epoch 16 loss: 97059.545\n",
            "Epoch 17 loss: 95027.708\n",
            "Epoch 18 loss: 92772.566\n",
            "Epoch 19 loss: 90987.901\n",
            "Epoch 20 loss: 89101.935\n",
            "Epoch 21 loss: 87445.933\n",
            "Epoch 22 loss: 86005.737\n",
            "Epoch 23 loss: 84493.557\n",
            "Epoch 24 loss: 82978.072\n",
            "Epoch 25 loss: 81742.326\n",
            "Epoch 26 loss: 80430.235\n",
            "Epoch 27 loss: 79518.892\n",
            "Epoch 28 loss: 78344.848\n",
            "Epoch 29 loss: 77262.287\n",
            "Epoch 30 loss: 76446.392\n",
            "Epoch 31 loss: 75579.115\n",
            "Epoch 32 loss: 74706.370\n",
            "Epoch 33 loss: 73979.775\n",
            "Epoch 34 loss: 73318.592\n",
            "Epoch 35 loss: 72400.093\n",
            "Epoch 36 loss: 71681.119\n",
            "Epoch 37 loss: 71126.060\n",
            "Epoch 38 loss: 70633.454\n",
            "Epoch 39 loss: 69883.619\n",
            "Epoch 40 loss: 69233.255\n",
            "Epoch 41 loss: 68870.751\n",
            "Epoch 42 loss: 68245.634\n",
            "Epoch 43 loss: 67583.808\n",
            "Epoch 44 loss: 67010.658\n",
            "Epoch 45 loss: 66545.452\n",
            "Epoch 46 loss: 66145.316\n",
            "Epoch 47 loss: 65911.213\n",
            "Epoch 48 loss: 65114.694\n",
            "Epoch 49 loss: 64718.203\n"
          ]
        }
      ],
      "source": [
        "distillation(teacher=teacher, \n",
        "             student=student, \n",
        "             loader=trainloader, \n",
        "             num_epoch=50, \n",
        "             optimizer=student_optim, \n",
        "             criterion=std_criterion, \n",
        "             T=T, \n",
        "             device=device)"
      ]
    },
    {
      "cell_type": "code",
      "source": [
        "# save student model\n",
        "student.eval()\n",
        "model_name = \"studentModel.pth\"\n",
        "teacher_model_PATH = \"/content/drive/MyDrive/\" + model_name\n",
        "torch.save(student.state_dict(), teacher_model_PATH)"
      ],
      "metadata": {
        "id": "NGTy2mM5-ZWV"
      },
      "execution_count": null,
      "outputs": []
    },
    {
      "cell_type": "markdown",
      "metadata": {
        "id": "RTgQ3eXTMbV9"
      },
      "source": [
        "### Computing Clean Accuracy"
      ]
    },
    {
      "cell_type": "code",
      "execution_count": 15,
      "metadata": {
        "id": "IGwrJ0PFanu2"
      },
      "outputs": [],
      "source": [
        "def standard_test(model, loader, T=1, device=device):\n",
        "  correct = 0\n",
        "  total = 0\n",
        "  ###################### Problem 4 (3 points) ##################################\n",
        "  # todo: Iterate over loader, compute the output and predicted                #\n",
        "  # label, and update \"correct\" and \"total\" counters accordingly.              # \n",
        "  ##############################################################################\n",
        "  # your code goes here\n",
        "  student.eval()\n",
        "  with torch.no_grad():\n",
        "    for data in testloader:\n",
        "        images, labels = data\n",
        "        images = images.to(device)\n",
        "        labels = labels.to(device)\n",
        "        outputs = student(images)\n",
        "        _, predicted = torch.max(outputs[1].data, 1)\n",
        "        total += labels.size(0)\n",
        "        correct += (predicted == labels).sum().item()\n",
        "  ################################ End #########################################\n",
        "  print(f'Clean accuracy of the network on the 10000 test images: {100 * correct // total} %')"
      ]
    },
    {
      "cell_type": "code",
      "execution_count": 16,
      "metadata": {
        "colab": {
          "base_uri": "https://localhost:8080/"
        },
        "id": "hIX-0T3LTcqx",
        "outputId": "d93b9ccb-ab42-442e-d531-950b0f754cd2"
      },
      "outputs": [
        {
          "output_type": "stream",
          "name": "stdout",
          "text": [
            "Clean accuracy of the network on the 10000 test images: 62 %\n"
          ]
        }
      ],
      "source": [
        "standard_test(student, testloader)"
      ]
    },
    {
      "cell_type": "markdown",
      "metadata": {
        "id": "oZzMOgrtMhR6"
      },
      "source": [
        "## Attacks"
      ]
    },
    {
      "cell_type": "code",
      "source": [
        "mean=[0.5, 0.5, 0.5]\n",
        "std=[0.5, 0.5, 0.5]\n",
        "inv_normalize = torchvision.transforms.Normalize(mean=[-m/s for m, s in zip(mean, std)], std=[1/s for s in std])\n",
        "normalize = torchvision.transforms.Normalize(mean=mean, std=std)"
      ],
      "metadata": {
        "id": "TkUG7u6wXyMw"
      },
      "execution_count": 17,
      "outputs": []
    },
    {
      "cell_type": "code",
      "execution_count": 18,
      "metadata": {
        "id": "9-bZdK06nl-7"
      },
      "outputs": [],
      "source": [
        "def fgsm_attack (model, X, y, epsilon, T=1, mode=\"output\"):\n",
        "  delta = torch.zeros_like(X, requires_grad=True).to(device)\n",
        "  ###################### Problem 5 (9 points) ######################\n",
        "  # todo: Perform forward path on model with the image             #\n",
        "  # todo: Compute loss:                                            #\n",
        "  #       - In output mode, set cross entropy as the loss function #\n",
        "  #       - In logit mode, set the logit value of the target label #\n",
        "  #         as the loss function                                   #\n",
        "  # todo: Perform backward path on loss function                   #\n",
        "  # todo: Calculate the gradient w.r.t. the data                   #\n",
        "  # todo: Determine delta based on the gradient and epsilon        #\n",
        "  # Also, if the perturbed image exceeds the valid range, clamp    #\n",
        "  # the delta in order to obtain an image in the valid range       #  \n",
        "  ##################################################################\n",
        "  # your code goes here\n",
        "  \n",
        "  X.requires_grad = True \n",
        "  out = model(X , T=1)\n",
        "  if mode == \"output\":\n",
        "    loss = F.nll_loss(out[1][0], y)\n",
        "    model.zero_grad()\n",
        "    loss.backward()\n",
        "    perturbed_image = X + epsilon * X.grad.data.sign()\n",
        "    perturbed_image = inv_normalize(perturbed_image)\n",
        "    perturbed_image = torch.clamp(perturbed_image, 0, 1)\n",
        "    perturbed_image = normalize(perturbed_image)\n",
        "    perturbation = epsilon * X.grad.data.sign()\n",
        "\n",
        "  else:\n",
        "    loss = out[0][0][y]\n",
        "    model.zero_grad()\n",
        "    loss.backward()\n",
        "    perturbed_image = X - epsilon * X.grad.data.sign()\n",
        "    perturbed_image = inv_normalize(perturbed_image)\n",
        "    perturbed_image = torch.clamp(perturbed_image, 0, 1)\n",
        "    perturbed_image = normalize(perturbed_image)\n",
        "    perturbation = -epsilon * X.grad.data.sign()\n",
        "  ########################### End ##################################\n",
        "    \n",
        "  return perturbation + X"
      ]
    },
    {
      "cell_type": "code",
      "execution_count": 20,
      "metadata": {
        "id": "bW_IPpmWNc8d"
      },
      "outputs": [],
      "source": [
        "def attack_test(model, attack_model, loader, mode=\"output\", epsilon=4/255, T=1, \n",
        "                device=device):\n",
        "  correct = 0\n",
        "  total = 0\n",
        "  ###################### Problem 6 (4.5 points) ################################\n",
        "  # todo: Iterate over loader                                                  #\n",
        "  # todo: Find an adversarial example by FGSM attack on attack_model           #\n",
        "  # todo: Compute the output and predicted label, and updated \"correct\" and    #\n",
        "  # \"total\" counters accordingly.                                              # \n",
        "  ##############################################################################\n",
        "  # your code goes here\n",
        "  for data in loader:\n",
        "    images, labels = data\n",
        "    images, labels = images.to(device), labels.to(device)\n",
        "    purterbed = []\n",
        "    for i in range(len(images)):\n",
        "      purterbed.append(fgsm_attack(attack_model, images[i].unsqueeze(0), labels[i], epsilon, T=1, mode=mode).squeeze(0))\n",
        "    perturbedImage = torch.stack(purterbed)\n",
        "    model.eval()\n",
        "    with torch.no_grad():\n",
        "        outputs = model(perturbedImage)\n",
        "        _, predicted = torch.max(outputs[1].data, 1)\n",
        "        total += labels.size(0)\n",
        "        correct += (predicted == labels).sum().item()\n",
        "  ################################ End #########################################\n",
        "  print(f'Accuracy of the network on the 10000 test images after attacking {mode} layer: {100 * correct // total} %')"
      ]
    },
    {
      "cell_type": "code",
      "execution_count": 22,
      "metadata": {
        "colab": {
          "base_uri": "https://localhost:8080/"
        },
        "id": "GDU26f3APt_w",
        "outputId": "f87bfa77-0d1a-4985-f8f2-76e823082bdd"
      },
      "outputs": [
        {
          "output_type": "stream",
          "name": "stdout",
          "text": [
            "attack on student model and logits:\n",
            "Accuracy of the network on the 10000 test images after attacking logits layer: 30 %\n",
            "attack on student model and output:\n",
            "Accuracy of the network on the 10000 test images after attacking output layer: 59 %\n"
          ]
        }
      ],
      "source": [
        "###################### Problem 7 (1.5 points) ##################################\n",
        "# todo: Report the accuracy of the student model under attack output and logit #\n",
        "#       layers                                                                 #\n",
        "# todo: Do not forget to set the temperature of the student model to 1         #\n",
        "################################################################################\n",
        "# your code goes here\n",
        "print('attack on student model and logits:')\n",
        "attack_test(student, student, testloader, mode=\"logits\", epsilon=4/255, T=1, device=device)\n",
        "\n",
        "print('attack on student model and output:')\n",
        "attack_test(student, student, testloader, mode=\"output\", epsilon=4/255, T=1, device=device)\n",
        "################################ End ###########################################"
      ]
    }
  ],
  "metadata": {
    "accelerator": "GPU",
    "colab": {
      "provenance": [],
      "gpuType": "T4"
    },
    "gpuClass": "standard",
    "kernelspec": {
      "display_name": "Python 3",
      "language": "python",
      "name": "python3"
    },
    "language_info": {
      "codemirror_mode": {
        "name": "ipython",
        "version": 3
      },
      "file_extension": ".py",
      "mimetype": "text/x-python",
      "name": "python",
      "nbconvert_exporter": "python",
      "pygments_lexer": "ipython3",
      "version": "3.8.5"
    }
  },
  "nbformat": 4,
  "nbformat_minor": 0
}